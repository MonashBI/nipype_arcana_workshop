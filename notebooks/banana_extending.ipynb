{
 "cells": [
  {
   "cell_type": "markdown",
   "metadata": {},
   "source": [
    "# Customising Banana for Your Analysis\n",
    "\n",
    "Now you understand how to write Arcana Analysis classes and have an idea of what is already implemented in Banana you can customise the analysis implemented in it to your needs.\n",
    "\n",
    "**Note:** Before doing any customisations, have a good look through the parameters of the class to see whether there is already a switch to do what you want.\n",
    "\n",
    "There are a couple of ways you might want to extend an existing class:\n",
    "\n",
    "* Adding/overwriting a new parameter or parameter option\n",
    "* Add new derivatives and pipeline constructors\n",
    "* Overwrite/modify an existing pipeline constructor\n",
    "\n",
    "For this notebook we will use the `BasicBrainAnalysis` class again instead of a \"real\" class from Banana as the analysis in those classes typically takes too long for the time we have available for this workshop. However, the concepts are the same.\n",
    "\n",
    "## Adding/Overwriting Parameters\n",
    "\n",
    "Adding a new parameter to a class is pretty straightforward, simply extend the class and put your new parameter in `add_param_specs`."
   ]
  },
  {
   "cell_type": "code",
   "execution_count": 1,
   "metadata": {},
   "outputs": [
    {
     "name": "stdout",
     "output_type": "stream",
     "text": [
      "191115-15:10:31,353 nipype.interface DEBUG:\n",
      "\t args_matlab\n",
      "\n",
      "__main__.MyExtendendedBasicBrainAnalysis Menu \n",
      "----------------------------------------------\n",
      "\n",
      "Inputs:\n",
      "    magnitude : nifti_gz\n",
      "        A magnitude image (e.g. T1w, T2w, etc..)\n",
      "\n",
      "Outputs:\n",
      "    brain : nifti_gz\n",
      "        Skull-stripped magnitude image\n",
      "    smooth : nifti_gz\n",
      "        Smoothed magnitude image\n",
      "    smooth_masked : nifti_gz\n",
      "        Smoothed and masked magnitude image\n",
      "\n",
      "Parameters:\n",
      "    bet_frac : float (0.1)\n",
      "        The fractional intensity threshold for BET\n",
      "    smoothing_fwhm : float (4.0)\n",
      "        The full-width-half-maxium radius of the smoothing kernel\n"
     ]
    }
   ],
   "source": [
    "from nipype import config\n",
    "config.enable_debug_mode()  # This is necessary due to a bug in one of the interfaces\n",
    "from arcana import Analysis, AnalysisMetaClass, ParamSpec, SwitchSpec\n",
    "from example.analysis import BasicBrainAnalysis\n",
    "\n",
    "\n",
    "class MyExtendendedBasicBrainAnalysis(BasicBrainAnalysis, metaclass=AnalysisMetaClass):\n",
    "    \n",
    "    add_param_specs = [\n",
    "        ParamSpec('bet_frac', 0.1, desc=\"The fractional intensity threshold for BET\")\n",
    "    ]\n",
    "    \n",
    "print(MyExtendendedBasicBrainAnalysis.static_menu())"
   ]
  },
  {
   "cell_type": "markdown",
   "metadata": {},
   "source": [
    "Alternatively if you just want to change the default value for an existing parameter you can override it"
   ]
  },
  {
   "cell_type": "code",
   "execution_count": 2,
   "metadata": {},
   "outputs": [
    {
     "name": "stdout",
     "output_type": "stream",
     "text": [
      "\n",
      "__main__.MyExtendedBasicBrainAnalysis Menu \n",
      "-------------------------------------------\n",
      "\n",
      "Inputs:\n",
      "    magnitude : nifti_gz\n",
      "        A magnitude image (e.g. T1w, T2w, etc..)\n",
      "\n",
      "Outputs:\n",
      "    brain : nifti_gz\n",
      "        Skull-stripped magnitude image\n",
      "    smooth : nifti_gz\n",
      "        Smoothed magnitude image\n",
      "    smooth_masked : nifti_gz\n",
      "        Smoothed and masked magnitude image\n",
      "\n",
      "Parameters:\n",
      "    smoothing_fwhm : int (2)\n",
      "        \n"
     ]
    }
   ],
   "source": [
    "from arcana import Analysis, AnalysisMetaClass, ParamSpec, SwitchSpec\n",
    "from example.analysis import BasicBrainAnalysis\n",
    "\n",
    "\n",
    "class MyExtendedBasicBrainAnalysis(BasicBrainAnalysis, metaclass=AnalysisMetaClass):\n",
    "    \n",
    "    add_param_specs = [\n",
    "        ParamSpec('smoothing_fwhm', 2)\n",
    "    ]\n",
    "    \n",
    "print(MyExtendedBasicBrainAnalysis.static_menu())"
   ]
  },
  {
   "cell_type": "markdown",
   "metadata": {},
   "source": [
    "Notice how we have lost the description of the parameter because we didn't provide it in the overwritten version. Instead of having to type the same thing again we can generate a new version of the original `ParamSpec` with a new default value by accessing the original from BasicBrainAnalysis and using the `with_new_default` method"
   ]
  },
  {
   "cell_type": "code",
   "execution_count": 3,
   "metadata": {},
   "outputs": [
    {
     "name": "stdout",
     "output_type": "stream",
     "text": [
      "\n",
      "__main__.MyExtendedBasicBrainAnalysis Menu \n",
      "-------------------------------------------\n",
      "\n",
      "Inputs:\n",
      "    magnitude : nifti_gz\n",
      "        A magnitude image (e.g. T1w, T2w, etc..)\n",
      "\n",
      "Outputs:\n",
      "    brain : nifti_gz\n",
      "        Skull-stripped magnitude image\n",
      "    smooth : nifti_gz\n",
      "        Smoothed magnitude image\n",
      "    smooth_masked : nifti_gz\n",
      "        Smoothed and masked magnitude image\n",
      "\n",
      "Parameters:\n",
      "    smoothing_fwhm : float (2.0)\n",
      "        The full-width-half-maxium radius of the smoothing kernel\n"
     ]
    }
   ],
   "source": [
    "class MyExtendedBasicBrainAnalysis(BasicBrainAnalysis, metaclass=AnalysisMetaClass):\n",
    "    \n",
    "    add_param_specs = [\n",
    "        BasicBrainAnalysis.param_spec('smoothing_fwhm').with_new_default(2.0)\n",
    "    ]\n",
    "    \n",
    "print(MyExtendedBasicBrainAnalysis.static_menu())"
   ]
  },
  {
   "cell_type": "markdown",
   "metadata": {},
   "source": [
    "## Adding New Data-Specs\n",
    "\n",
    "Adding new data-specs is the same as adding new parameters just append them to the `add_data_specs` list of your extended class"
   ]
  },
  {
   "cell_type": "code",
   "execution_count": 5,
   "metadata": {},
   "outputs": [
    {
     "name": "stdout",
     "output_type": "stream",
     "text": [
      "\n",
      "__main__.MyExtendedBasicBrainAnalysis Menu \n",
      "-------------------------------------------\n",
      "\n",
      "Inputs:\n",
      "    magnitude : nifti_gz\n",
      "        A magnitude image (e.g. T1w, T2w, etc..)\n",
      "\n",
      "Outputs:\n",
      "    brain : nifti_gz\n",
      "        Skull-stripped magnitude image\n",
      "    skull_mask : nifti_gz\n",
      "        Skull mask extracted from magnitude image\n",
      "    smooth : nifti_gz\n",
      "        Smoothed magnitude image\n",
      "    smooth_masked : nifti_gz\n",
      "        Smoothed and masked magnitude image\n",
      "\n",
      "Parameters:\n",
      "    smoothing_fwhm : float (4.0)\n",
      "        The full-width-half-maxium radius of the smoothing kernel\n"
     ]
    }
   ],
   "source": [
    "from arcana import OutputFilesetSpec\n",
    "from banana.file_format import nifti_gz_format\n",
    "\n",
    "\n",
    "class MyExtendedBasicBrainAnalysis(BasicBrainAnalysis, metaclass=AnalysisMetaClass):\n",
    "    \n",
    "    add_data_specs = [\n",
    "        OutputFilesetSpec('skull_mask', nifti_gz_format,\n",
    "                          'brain_extraction_pipeline',\n",
    "                          desc=\"Skull mask extracted from magnitude image\"),\n",
    "    ]\n",
    "    \n",
    "print(MyExtendedBasicBrainAnalysis.static_menu())"
   ]
  },
  {
   "cell_type": "markdown",
   "metadata": {},
   "source": [
    "## Modifying and Overwriting Constructor Methods\n",
    "\n",
    "Of course if you add new parameters and/or data specs you will need to add or modify the pipelines that use/generate them. Adding a new method is straightforward, simply define it in your extended class. Likewise overriding a method you just need to name your pipeline constructor method as it is in the base class. However, in most cases you will just want to modify the pipeline instead, in which case we use the built-in `super`."
   ]
  },
  {
   "cell_type": "code",
   "execution_count": 6,
   "metadata": {},
   "outputs": [
    {
     "name": "stdout",
     "output_type": "stream",
     "text": [
      "Wraps the executable command ``bet``.\n",
      "\n",
      "FSL BET wrapper for skull stripping\n",
      "\n",
      "For complete details, see the `BET Documentation.\n",
      "<https://fsl.fmrib.ox.ac.uk/fsl/fslwiki/BET/UserGuide>`_\n",
      "\n",
      "Examples\n",
      "--------\n",
      ">>> from nipype.interfaces import fsl\n",
      ">>> btr = fsl.BET()\n",
      ">>> btr.inputs.in_file = 'structural.nii'\n",
      ">>> btr.inputs.frac = 0.7\n",
      ">>> btr.inputs.out_file = 'brain_anat.nii'\n",
      ">>> btr.cmdline\n",
      "'bet structural.nii brain_anat.nii -f 0.70'\n",
      ">>> res = btr.run() # doctest: +SKIP\n",
      "\n",
      "Inputs::\n",
      "\n",
      "        [Mandatory]\n",
      "        in_file: (an existing file name)\n",
      "                input file to skull strip\n",
      "                argument: ``%s``, position: 0\n",
      "\n",
      "        [Optional]\n",
      "        out_file: (a file name)\n",
      "                name of output skull stripped image\n",
      "                argument: ``%s``, position: 1\n",
      "        outline: (a boolean)\n",
      "                create surface outline image\n",
      "                argument: ``-o``\n",
      "        mask: (a boolean)\n",
      "                create binary mask image\n",
      "                argument: ``-m``\n",
      "        skull: (a boolean)\n",
      "                create skull image\n",
      "                argument: ``-s``\n",
      "        no_output: (a boolean)\n",
      "                Don't generate segmented output\n",
      "                argument: ``-n``\n",
      "        frac: (a float)\n",
      "                fractional intensity threshold\n",
      "                argument: ``-f %.2f``\n",
      "        vertical_gradient: (a float)\n",
      "                vertical gradient in fractional intensity threshold (-1, 1)\n",
      "                argument: ``-g %.2f``\n",
      "        radius: (an integer (int or long))\n",
      "                head radius\n",
      "                argument: ``-r %d``\n",
      "        center: (a list of at most 3 items which are an integer (int or\n",
      "                  long))\n",
      "                center of gravity in voxels\n",
      "                argument: ``-c %s``\n",
      "        threshold: (a boolean)\n",
      "                apply thresholding to segmented brain image and mask\n",
      "                argument: ``-t``\n",
      "        mesh: (a boolean)\n",
      "                generate a vtk mesh brain surface\n",
      "                argument: ``-e``\n",
      "        robust: (a boolean)\n",
      "                robust brain centre estimation (iterates BET several times)\n",
      "                argument: ``-R``\n",
      "                mutually_exclusive: functional, reduce_bias, robust, padding,\n",
      "                  remove_eyes, surfaces, t2_guided\n",
      "        padding: (a boolean)\n",
      "                improve BET if FOV is very small in Z (by temporarily padding end\n",
      "                slices)\n",
      "                argument: ``-Z``\n",
      "                mutually_exclusive: functional, reduce_bias, robust, padding,\n",
      "                  remove_eyes, surfaces, t2_guided\n",
      "        remove_eyes: (a boolean)\n",
      "                eye & optic nerve cleanup (can be useful in SIENA)\n",
      "                argument: ``-S``\n",
      "                mutually_exclusive: functional, reduce_bias, robust, padding,\n",
      "                  remove_eyes, surfaces, t2_guided\n",
      "        surfaces: (a boolean)\n",
      "                run bet2 and then betsurf to get additional skull and scalp surfaces\n",
      "                (includes registrations)\n",
      "                argument: ``-A``\n",
      "                mutually_exclusive: functional, reduce_bias, robust, padding,\n",
      "                  remove_eyes, surfaces, t2_guided\n",
      "        t2_guided: (a file name)\n",
      "                as with creating surfaces, when also feeding in non-brain-extracted\n",
      "                T2 (includes registrations)\n",
      "                argument: ``-A2 %s``\n",
      "                mutually_exclusive: functional, reduce_bias, robust, padding,\n",
      "                  remove_eyes, surfaces, t2_guided\n",
      "        functional: (a boolean)\n",
      "                apply to 4D fMRI data\n",
      "                argument: ``-F``\n",
      "                mutually_exclusive: functional, reduce_bias, robust, padding,\n",
      "                  remove_eyes, surfaces, t2_guided\n",
      "        reduce_bias: (a boolean)\n",
      "                bias field and neck cleanup\n",
      "                argument: ``-B``\n",
      "                mutually_exclusive: functional, reduce_bias, robust, padding,\n",
      "                  remove_eyes, surfaces, t2_guided\n",
      "        output_type: ('NIFTI' or 'NIFTI_PAIR' or 'NIFTI_GZ' or\n",
      "                  'NIFTI_PAIR_GZ')\n",
      "                FSL output type\n",
      "        args: (a unicode string)\n",
      "                Additional parameters to the command\n",
      "                argument: ``%s``\n",
      "        environ: (a dictionary with keys which are a bytes or None or a value\n",
      "                  of class 'str' and with values which are a bytes or None or a\n",
      "                  value of class 'str', nipype default value: {})\n",
      "                Environment variables\n",
      "\n",
      "Outputs::\n",
      "\n",
      "        out_file: (a file name)\n",
      "                path/name of skullstripped file (if generated)\n",
      "        mask_file: (a file name)\n",
      "                path/name of binary brain mask (if generated)\n",
      "        outline_file: (a file name)\n",
      "                path/name of outline file (if generated)\n",
      "        meshfile: (a file name)\n",
      "                path/name of vtk mesh file (if generated)\n",
      "        inskull_mask_file: (a file name)\n",
      "                path/name of inskull mask (if generated)\n",
      "        inskull_mesh_file: (a file name)\n",
      "                path/name of inskull mesh outline (if generated)\n",
      "        outskull_mask_file: (a file name)\n",
      "                path/name of outskull mask (if generated)\n",
      "        outskull_mesh_file: (a file name)\n",
      "                path/name of outskull mesh outline (if generated)\n",
      "        outskin_mask_file: (a file name)\n",
      "                path/name of outskin mask (if generated)\n",
      "        outskin_mesh_file: (a file name)\n",
      "                path/name of outskin mesh outline (if generated)\n",
      "        skull_mask_file: (a file name)\n",
      "                path/name of skull mask (if generated)\n",
      "\n",
      "References:\n",
      "-----------\n",
      "BibTeX('@article{JenkinsonBeckmannBehrensWoolrichSmith2012,author={M. Jenkinson, C.F. Beckmann, T.E. Behrens, M.W. Woolrich, and S.M. Smith},title={FSL},journal={NeuroImage},volume={62},pages={782-790},year={2012},}', key='JenkinsonBeckmannBehrensWoolrichSmith2012')\n"
     ]
    }
   ],
   "source": [
    "from nipype.interfaces import fsl\n",
    "fsl.BET.help()"
   ]
  },
  {
   "cell_type": "code",
   "execution_count": 12,
   "metadata": {},
   "outputs": [],
   "source": [
    "from arcana import OutputFilesetSpec\n",
    "from banana.file_format import nifti_gz_format\n",
    "\n",
    "\n",
    "class MyExtendedBasicBrainAnalysis(BasicBrainAnalysis, metaclass=AnalysisMetaClass):\n",
    "    \n",
    "    add_data_specs = [\n",
    "        OutputFilesetSpec('skull_mask', nifti_gz_format,\n",
    "                          'brain_extraction_pipeline',\n",
    "                          desc=\"Skull mask extracted from magnitude image\"),\n",
    "    ]\n",
    "    \n",
    "    def brain_extraction_pipeline(self, **name_maps):\n",
    "        pipeline = super().brain_extraction_pipeline(**name_maps)\n",
    "        \n",
    "        bet = pipeline.node('bet')\n",
    "\n",
    "        # Set the input of the BET node so that it outputs a Skull mask\n",
    "        bet.inputs.surfaces = True\n",
    "        \n",
    "        pipeline.connect_output('skull_mask', bet, 'skull_mask_file', nifti_gz_format)\n",
    "        \n",
    "        return pipeline"
   ]
  },
  {
   "cell_type": "code",
   "execution_count": 17,
   "metadata": {},
   "outputs": [],
   "source": [
    "from arcana import Dataset, FilesetFilter, SingleProc\n",
    "\n",
    "def run_analysis():\n",
    "    my_analysis = MyExtendedBasicBrainAnalysis(\n",
    "        'my_extended_analysis',  # The name needs to be the same as the previous version\n",
    "        dataset=Dataset('output/sample-datasets/depth1', depth=1),\n",
    "        processor=SingleProc('work'),\n",
    "        inputs=[\n",
    "            FilesetFilter('magnitude', '.*T1w$', is_regex=True)])\n",
    "\n",
    "    my_analysis.derive('skull_mask')"
   ]
  },
  {
   "cell_type": "code",
   "execution_count": 14,
   "metadata": {},
   "outputs": [
    {
     "name": "stderr",
     "output_type": "stream",
     "text": [
      "/usr/local/lib/python3.7/site-packages/nilearn/plotting/displays.py:1239: DeprecationWarning: Using or importing the ABCs from 'collections' instead of from 'collections.abc' is deprecated since Python 3.3,and in 3.9 it will stop working\n",
      "  if (not isinstance(cut_coords, collections.Sequence) and\n",
      "/usr/local/lib/python3.7/site-packages/nilearn/image/resampling.py:510: UserWarning: Casting data from int32 to float32\n",
      "  warnings.warn(\"Casting data from %s to %s\" % (data.dtype.name, aux))\n"
     ]
    },
    {
     "data": {
      "image/png": "[encoded data removed]",
      "text/plain": [
       "<Figure size 950.4x165.6 with 7 Axes>"
      ]
     },
     "metadata": {},
     "output_type": "display_data"
    }
   ],
   "source": [
    "import os.path as op\n",
    "from nilearn import plotting, image\n",
    "def plot_slices(path, title):\n",
    "    plotting.plot_anat(image.load_img(op.join('output/sample-datasets/depth1', path)),\n",
    "                       title=title, display_mode='z', dim=-1,\n",
    "                       cut_coords=[-20, -10, 0, 10, 20, 30])\n",
    "\n",
    "plot_slices('sub1/my_extended_analysis/skull_mask.nii.gz', 'Skull Mask')"
   ]
  },
  {
   "cell_type": "markdown",
   "metadata": {},
   "source": [
    "## Exercise 1\n",
    "\n",
    "Modify the `smooth_mask_pipeline` so that it uses the 'sigma' parameter instead of the 'fwhm' parameter to define the smoothing kernel and then plot the results of `smooth_masked`"
   ]
  },
  {
   "cell_type": "code",
   "execution_count": 8,
   "metadata": {},
   "outputs": [
    {
     "name": "stdout",
     "output_type": "stream",
     "text": [
      "\u001b[32m__prov__\u001b[m\u001b[m             fields.json          smooth.mif\r\n",
      "brain.nii.gz         fields.json.lock     smooth_masked.nii.gz\r\n",
      "brain_mask.nii.gz    skull_mask.nii.gz\r\n"
     ]
    }
   ],
   "source": [
    "## Write your solution here"
   ]
  },
  {
   "cell_type": "code",
   "execution_count": 13,
   "metadata": {},
   "outputs": [
    {
     "name": "stdout",
     "output_type": "stream",
     "text": [
      "\u001b[32mmy_analysis\u001b[m\u001b[m\r\n",
      "\u001b[32mmy_extended_analysis\u001b[m\u001b[m\r\n",
      "sub-01_ses-test_T1w.nii.gz\r\n",
      "sub-01_ses-test_T1w_bet.nii.gz\r\n",
      "sub-01_ses-test_dwi.nii.gz\r\n",
      "sub-01_ses-test_task-covertverbgeneration_bold.nii.gz\r\n",
      "sub-01_ses-test_task-fingerfootlips_bold.nii.gz\r\n",
      "sub-01_ses-test_task-linebisection_bold.nii.gz\r\n",
      "sub-01_ses-test_task-overtverbgeneration_bold.nii.gz\r\n",
      "sub-01_ses-test_task-overtwordrepetition_bold.nii.gz\r\n"
     ]
    }
   ],
   "source": [
    "from arcana import OutputFilesetSpec\n",
    "from banana.file_format import nifti_gz_format\n",
    "from nipype import undefined\n",
    "\n",
    "\n",
    "class MyExtendedBasicBrainAnalysis(BasicBrainAnalysis, metaclass=AnalysisMetaClass):\n",
    "    \n",
    "    def smooth_mask_pipeline(self, **name_maps):\n",
    "        pipeline = super().smooth_mask_pipeline(**name_maps)\n",
    "        \n",
    "        smooth = pipeline.node('smooth')\n",
    "\n",
    "        # Set the input of the BET node so that it outputs a Skull mask\n",
    "        smooth.inputs.fwhm = undefined\n",
    "        smooth.inputs.sigma = 2.0\n",
    "        \n",
    "        return pipeline"
   ]
  },
  {
   "cell_type": "code",
   "execution_count": 18,
   "metadata": {},
   "outputs": [
    {
     "ename": "NameError",
     "evalue": "name 'MyExtendedBasicBrainAnalysis' is not defined",
     "output_type": "error",
     "traceback": [
      "\u001b[0;31m---------------------------------------------------------------------------\u001b[0m",
      "\u001b[0;31mNameError\u001b[0m                                 Traceback (most recent call last)",
      "\u001b[0;32m<ipython-input-18-b27a645f1203>\u001b[0m in \u001b[0;36m<module>\u001b[0;34m()\u001b[0m\n\u001b[0;32m----> 1\u001b[0;31m \u001b[0mrun_analysis\u001b[0m\u001b[0;34m(\u001b[0m\u001b[0;34m)\u001b[0m\u001b[0;34m\u001b[0m\u001b[0;34m\u001b[0m\u001b[0m\n\u001b[0m",
      "\u001b[0;32m<ipython-input-17-065044419f8a>\u001b[0m in \u001b[0;36mrun_analysis\u001b[0;34m()\u001b[0m\n\u001b[1;32m      2\u001b[0m \u001b[0;34m\u001b[0m\u001b[0m\n\u001b[1;32m      3\u001b[0m \u001b[0;32mdef\u001b[0m \u001b[0mrun_analysis\u001b[0m\u001b[0;34m(\u001b[0m\u001b[0;34m)\u001b[0m\u001b[0;34m:\u001b[0m\u001b[0;34m\u001b[0m\u001b[0;34m\u001b[0m\u001b[0m\n\u001b[0;32m----> 4\u001b[0;31m     my_analysis = MyExtendedBasicBrainAnalysis(\n\u001b[0m\u001b[1;32m      5\u001b[0m         \u001b[0;34m'my_extended_analysis'\u001b[0m\u001b[0;34m,\u001b[0m  \u001b[0;31m# The name needs to be the same as the previous version\u001b[0m\u001b[0;34m\u001b[0m\u001b[0;34m\u001b[0m\u001b[0m\n\u001b[1;32m      6\u001b[0m         \u001b[0mdataset\u001b[0m\u001b[0;34m=\u001b[0m\u001b[0mDataset\u001b[0m\u001b[0;34m(\u001b[0m\u001b[0;34m'output/sample-datasets/depth1'\u001b[0m\u001b[0;34m,\u001b[0m \u001b[0mdepth\u001b[0m\u001b[0;34m=\u001b[0m\u001b[0;36m1\u001b[0m\u001b[0;34m)\u001b[0m\u001b[0;34m,\u001b[0m\u001b[0;34m\u001b[0m\u001b[0;34m\u001b[0m\u001b[0m\n",
      "\u001b[0;31mNameError\u001b[0m: name 'MyExtendedBasicBrainAnalysis' is not defined"
     ]
    }
   ],
   "source": [
    "run_analysis()"
   ]
  },
  {
   "cell_type": "code",
   "execution_count": null,
   "metadata": {},
   "outputs": [],
   "source": []
  }
 ],
 "metadata": {
  "file_extension": ".py",
  "kernelspec": {
   "display_name": "Python 3",
   "language": "python",
   "name": "python3"
  },
  "language_info": {
   "codemirror_mode": {
    "name": "ipython",
    "version": 3
   },
   "file_extension": ".py",
   "mimetype": "text/x-python",
   "name": "python",
   "nbconvert_exporter": "python",
   "pygments_lexer": "ipython3",
   "version": "3.7.5"
  },
  "mimetype": "text/x-python",
  "name": "python",
  "npconvert_exporter": "python",
  "pygments_lexer": "ipython3",
  "version": 3
 },
 "nbformat": 4,
 "nbformat_minor": 2
}
