{
 "cells": [
  {
   "cell_type": "markdown",
   "metadata": {},
   "source": [
    "# Designing Analysis Classes"
   ]
  },
  {
   "cell_type": "markdown",
   "metadata": {},
   "source": [
    "## Points to demonstrate\n",
    "\n",
    "  * Data specification\n",
    "      * Filesets and Fields\n",
    "      * Frequency\n",
    "      * valid formats\n",
    "      * pipeline getter\n",
    "  * Parameter specification\n",
    "      * Switches\n",
    "      * Parameters\n",
    "  * Pipeline getters\n",
    "      * name_maps\n",
    "      * requirements\n",
    "      * citations\n",
    "      * inputs\n",
    "          * from spec\n",
    "          * from prev node\n",
    "      * output to spec\n",
    "      * Data formats and implicit conversion      "
   ]
  },
  {
   "cell_type": "code",
   "execution_count": null,
   "metadata": {},
   "outputs": [],
   "source": []
  }
 ],
 "metadata": {
  "file_extension": ".py",
  "kernelspec": {
   "display_name": "Python 3",
   "language": "python",
   "name": "python3"
  },
  "language_info": {
   "codemirror_mode": {
    "name": "ipython",
    "version": 3
   },
   "file_extension": ".py",
   "mimetype": "text/x-python",
   "name": "python",
   "nbconvert_exporter": "python",
   "pygments_lexer": "ipython3",
   "version": "3.7.5"
  },
  "mimetype": "text/x-python",
  "name": "python",
  "npconvert_exporter": "python",
  "pygments_lexer": "ipython3",
  "version": 3
 },
 "nbformat": 4,
 "nbformat_minor": 2
}
