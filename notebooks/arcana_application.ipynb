{
 "cells": [
  {
   "cell_type": "markdown",
   "metadata": {},
   "source": [
    "# Applying Pre-Implemented Analyses\n",
    "\n",
    "An *Analysis* class can be applied to a dataset in a flexible manner, such as the parameterisation how and where the data is stored, which derivatives are required, and the computing environment in which to generate the derivatives."
   ]
  },
  {
   "cell_type": "markdown",
   "metadata": {},
   "source": [
    "## Inspecting the Analysis Class\n",
    "\n",
    "We will start by importing a predefined Analysis class from `example.analysis`, which performs the same analysis as the workflow in the [Workflows Notebook](basic_workflow.ipynb). We print the \"menu\", the list of inputs, derivatives and parameters objects of this class can receive/derive, using the `static_menu` class method."
   ]
  },
  {
   "cell_type": "code",
   "execution_count": 1,
   "metadata": {},
   "outputs": [
    {
     "name": "stdout",
     "output_type": "stream",
     "text": [
      "\n",
      "example.analysis.BasicBrainAnalysis Menu \n",
      "-----------------------------------------\n",
      "\n",
      "Inputs:\n",
      "    magnitude : nifti_gz\n",
      "        A magnitude image (e.g. T1w, T2w, etc..)\n",
      "\n",
      "Outputs:\n",
      "    brain : nifti_gz\n",
      "        Skull-stripped magnitude image\n",
      "    brain_mask : nifti_gz\n",
      "        Brain mask used for skull-stripping\n",
      "    smooth : nifti_gz\n",
      "        Smoothed magnitude image\n",
      "    smooth_masked : nifti_gz\n",
      "        Smoothed and masked magnitude image\n",
      "\n",
      "Parameters:\n",
      "    smoothing_fwhm : float\n",
      "        The full-width-half-maxium radius of the smoothing kernel\n"
     ]
    }
   ],
   "source": [
    "from example.analysis import BasicBrainAnalysis\n",
    "print(BasicBrainAnalysis.static_menu())"
   ]
  },
  {
   "cell_type": "markdown",
   "metadata": {},
   "source": [
    "## Defining the Dataset to Analyse\n",
    "\n",
    "Arcana implicitly handles a lot of the menial tasks involved with data input/outputs such as file format conversions and inserting/retrieving data from a repository service (e.g. XNAT). To specify where your data is you need to create a Dataset object.\n",
    "\n",
    "The simplest form of dataset object is just a directory on (or mounted on) your local file system with data for one session stored within it, e.g."
   ]
  },
  {
   "cell_type": "code",
   "execution_count": 2,
   "metadata": {},
   "outputs": [
    {
     "name": "stdout",
     "output_type": "stream",
     "text": [
      "data/sample-datasets/depth0\n",
      "├── sub-01_ses-test_T1w.nii.gz\n",
      "├── sub-01_ses-test_T1w_bet.nii.gz\n",
      "├── sub-01_ses-test_dwi.nii.gz\n",
      "├── sub-01_ses-test_task-covertverbgeneration_bold.nii.gz\n",
      "├── sub-01_ses-test_task-fingerfootlips_bold.nii.gz\n",
      "├── sub-01_ses-test_task-linebisection_bold.nii.gz\n",
      "├── sub-01_ses-test_task-overtverbgeneration_bold.nii.gz\n",
      "└── sub-01_ses-test_task-overtwordrepetition_bold.nii.gz\n",
      "\n",
      "0 directories, 8 files\n"
     ]
    }
   ],
   "source": [
    "%%bash\n",
    "# Create a dataset for a single session in a flat directory. We will copy data from the BIDS formatted ds000114\n",
    "SAMPLE_DSET=data/sample-datasets/depth0\n",
    "mkdir -p $SAMPLE_DSET\n",
    "find data/ds000114/sub-01/ses-test -name '*.nii.gz' | xargs -I% cp -f % $SAMPLE_DSET/\n",
    "tree $SAMPLE_DSET"
   ]
  },
  {
   "cell_type": "code",
   "execution_count": 22,
   "metadata": {},
   "outputs": [
    {
     "name": "stdout",
     "output_type": "stream",
     "text": [
      "Dataset(name='/Users/tclose/Documents/Workshops/2019-11-15-N.A.B.-workshop/nipype_arcana_workshop/notebooks/data/sample-datasets/depth0', depth=0, repository=LocalFileSystemRepo())\n"
     ]
    }
   ],
   "source": [
    "from arcana import Dataset\n",
    "dset0 = Dataset('data/sample-datasets/depth0')\n",
    "print(dset0)"
   ]
  },
  {
   "cell_type": "markdown",
   "metadata": {},
   "source": [
    "Notice the `depth` of this dataset is `0`. This means that there aren't any sub-directories for separate subjects or visits in it. However, all datasets in Arcana have an implicit depth of 2 (although future versions may relax this restriction) so we can see that the single \"session\" (a single visit of a subject) is assigned default subject and visit IDs of 'SUBJECT' and 'VISIT' respectively."
   ]
  },
  {
   "cell_type": "code",
   "execution_count": 23,
   "metadata": {},
   "outputs": [
    {
     "name": "stdout",
     "output_type": "stream",
     "text": [
      "['SUBJECT']\n",
      "['VISIT']\n"
     ]
    }
   ],
   "source": [
    "print('subjects:', list(dset0.subject_ids))\n",
    "print('visits:', list(dset0.visit_ids))"
   ]
  },
  {
   "cell_type": "markdown",
   "metadata": {},
   "source": [
    "For a multi-subject dataset we can add sub-directories for each subject"
   ]
  },
  {
   "cell_type": "code",
   "execution_count": 17,
   "metadata": {},
   "outputs": [
    {
     "name": "stdout",
     "output_type": "stream",
     "text": [
      "data/sample-datasets/depth1\n",
      "├── sub1\n",
      "│   ├── sub-01_ses-test_T1w.nii.gz\n",
      "│   ├── sub-01_ses-test_T1w_bet.nii.gz\n",
      "│   ├── sub-01_ses-test_dwi.nii.gz\n",
      "│   ├── sub-01_ses-test_task-covertverbgeneration_bold.nii.gz\n",
      "│   ├── sub-01_ses-test_task-fingerfootlips_bold.nii.gz\n",
      "│   ├── sub-01_ses-test_task-linebisection_bold.nii.gz\n",
      "│   ├── sub-01_ses-test_task-overtverbgeneration_bold.nii.gz\n",
      "│   └── sub-01_ses-test_task-overtwordrepetition_bold.nii.gz\n",
      "├── sub2\n",
      "│   ├── sub-02_ses-test_T1w.nii.gz\n",
      "│   ├── sub-02_ses-test_dwi.nii.gz\n",
      "│   ├── sub-02_ses-test_task-covertverbgeneration_bold.nii.gz\n",
      "│   ├── sub-02_ses-test_task-fingerfootlips_bold.nii.gz\n",
      "│   ├── sub-02_ses-test_task-linebisection_bold.nii.gz\n",
      "│   ├── sub-02_ses-test_task-overtverbgeneration_bold.nii.gz\n",
      "│   └── sub-02_ses-test_task-overtwordrepetition_bold.nii.gz\n",
      "└── sub3\n",
      "    ├── sub-03_ses-test_T1w.nii.gz\n",
      "    ├── sub-03_ses-test_dwi.nii.gz\n",
      "    ├── sub-03_ses-test_task-covertverbgeneration_bold.nii.gz\n",
      "    ├── sub-03_ses-test_task-fingerfootlips_bold.nii.gz\n",
      "    ├── sub-03_ses-test_task-linebisection_bold.nii.gz\n",
      "    ├── sub-03_ses-test_task-overtverbgeneration_bold.nii.gz\n",
      "    └── sub-03_ses-test_task-overtwordrepetition_bold.nii.gz\n",
      "\n",
      "3 directories, 22 files\n"
     ]
    }
   ],
   "source": [
    "%%bash\n",
    "# Create a dataset for a multiple subjects in separate sub-directories by copying data from the BIDS formatted ds000114\n",
    "SAMPLE_DSET=data/sample-datasets/depth1\n",
    "mkdir -p $SAMPLE_DSET/sub1 $SAMPLE_DSET/sub2  $SAMPLE_DSET/sub3\n",
    "find data/ds000114/sub-01/ses-test -name '*.nii.gz' | xargs -I% cp -f % $SAMPLE_DSET/sub1\n",
    "find data/ds000114/sub-02/ses-test -name '*.nii.gz' | xargs -I% cp -f % $SAMPLE_DSET/sub2\n",
    "find data/ds000114/sub-03/ses-test -name '*.nii.gz' | xargs -I% cp -f % $SAMPLE_DSET/sub3\n",
    "tree $SAMPLE_DSET"
   ]
  },
  {
   "cell_type": "code",
   "execution_count": 27,
   "metadata": {},
   "outputs": [
    {
     "name": "stdout",
     "output_type": "stream",
     "text": [
      "Dataset(name='/Users/tclose/Documents/Workshops/2019-11-15-N.A.B.-workshop/nipype_arcana_workshop/notebooks/data/sample-datasets/depth1', depth=1, repository=LocalFileSystemRepo())\n",
      "subjects: ['sub1', 'sub2', 'sub3']\n",
      "visits: ['VISIT']\n"
     ]
    }
   ],
   "source": [
    "dset1 = Dataset('data/sample-datasets/depth1', depth=1)\n",
    "print(dset1)\n",
    "print('subjects:', list(dset1.subject_ids))\n",
    "print('visits:', list(dset1.visit_ids))"
   ]
  },
  {
   "cell_type": "markdown",
   "metadata": {},
   "source": [
    "**Note** that we need to explicitly provide the depth of `1` otherwise Arcana will interpret our 'sub1', 'sub2' and 'sub3' as filesets."
   ]
  },
  {
   "cell_type": "code",
   "execution_count": 31,
   "metadata": {},
   "outputs": [
    {
     "name": "stdout",
     "output_type": "stream",
     "text": [
      "data/sample-datasets/depth2\n",
      "├── sub1\n",
      "│   ├── retest\n",
      "│   │   ├── sub-01_ses-retest_T1w.nii.gz\n",
      "│   │   ├── sub-01_ses-retest_dwi.nii.gz\n",
      "│   │   ├── sub-01_ses-retest_task-covertverbgeneration_bold.nii.gz\n",
      "│   │   ├── sub-01_ses-retest_task-fingerfootlips_bold.nii.gz\n",
      "│   │   ├── sub-01_ses-retest_task-linebisection_bold.nii.gz\n",
      "│   │   ├── sub-01_ses-retest_task-overtverbgeneration_bold.nii.gz\n",
      "│   │   └── sub-01_ses-retest_task-overtwordrepetition_bold.nii.gz\n",
      "│   └── test\n",
      "│       ├── sub-01_ses-test_T1w.nii.gz\n",
      "│       ├── sub-01_ses-test_T1w_bet.nii.gz\n",
      "│       ├── sub-01_ses-test_dwi.nii.gz\n",
      "│       ├── sub-01_ses-test_task-covertverbgeneration_bold.nii.gz\n",
      "│       ├── sub-01_ses-test_task-fingerfootlips_bold.nii.gz\n",
      "│       ├── sub-01_ses-test_task-linebisection_bold.nii.gz\n",
      "│       ├── sub-01_ses-test_task-overtverbgeneration_bold.nii.gz\n",
      "│       └── sub-01_ses-test_task-overtwordrepetition_bold.nii.gz\n",
      "├── sub2\n",
      "│   ├── retest\n",
      "│   │   ├── sub-02_ses-retest_T1w.nii.gz\n",
      "│   │   ├── sub-02_ses-retest_dwi.nii.gz\n",
      "│   │   ├── sub-02_ses-retest_task-covertverbgeneration_bold.nii.gz\n",
      "│   │   ├── sub-02_ses-retest_task-fingerfootlips_bold.nii.gz\n",
      "│   │   ├── sub-02_ses-retest_task-linebisection_bold.nii.gz\n",
      "│   │   ├── sub-02_ses-retest_task-overtverbgeneration_bold.nii.gz\n",
      "│   │   └── sub-02_ses-retest_task-overtwordrepetition_bold.nii.gz\n",
      "│   └── test\n",
      "│       ├── sub-02_ses-test_T1w.nii.gz\n",
      "│       ├── sub-02_ses-test_dwi.nii.gz\n",
      "│       ├── sub-02_ses-test_task-covertverbgeneration_bold.nii.gz\n",
      "│       ├── sub-02_ses-test_task-fingerfootlips_bold.nii.gz\n",
      "│       ├── sub-02_ses-test_task-linebisection_bold.nii.gz\n",
      "│       ├── sub-02_ses-test_task-overtverbgeneration_bold.nii.gz\n",
      "│       └── sub-02_ses-test_task-overtwordrepetition_bold.nii.gz\n",
      "└── sub3\n",
      "    ├── retest\n",
      "    │   ├── sub-03_ses-retest_T1w.nii.gz\n",
      "    │   ├── sub-03_ses-retest_dwi.nii.gz\n",
      "    │   ├── sub-03_ses-retest_task-covertverbgeneration_bold.nii.gz\n",
      "    │   ├── sub-03_ses-retest_task-fingerfootlips_bold.nii.gz\n",
      "    │   ├── sub-03_ses-retest_task-linebisection_bold.nii.gz\n",
      "    │   ├── sub-03_ses-retest_task-overtverbgeneration_bold.nii.gz\n",
      "    │   └── sub-03_ses-retest_task-overtwordrepetition_bold.nii.gz\n",
      "    └── test\n",
      "        ├── sub-03_ses-test_T1w.nii.gz\n",
      "        ├── sub-03_ses-test_dwi.nii.gz\n",
      "        ├── sub-03_ses-test_task-covertverbgeneration_bold.nii.gz\n",
      "        ├── sub-03_ses-test_task-fingerfootlips_bold.nii.gz\n",
      "        ├── sub-03_ses-test_task-linebisection_bold.nii.gz\n",
      "        ├── sub-03_ses-test_task-overtverbgeneration_bold.nii.gz\n",
      "        └── sub-03_ses-test_task-overtwordrepetition_bold.nii.gz\n",
      "\n",
      "9 directories, 43 files\n"
     ]
    }
   ],
   "source": [
    "%%bash\n",
    "# Create a dataset for a multiple subjects in separate sub-directories by copying data from the BIDS formatted ds000114\n",
    "SAMPLE_DSET=data/sample-datasets/depth2\n",
    "mkdir -p $SAMPLE_DSET/sub1/test $SAMPLE_DSET/sub1/retest $SAMPLE_DSET/sub2/test $SAMPLE_DSET/sub2/test \\\n",
    "         $SAMPLE_DSET/sub2/retest $SAMPLE_DSET/sub3/test $SAMPLE_DSET/sub3/retest\n",
    "find data/ds000114/sub-01/ses-test -name '*.nii.gz' | xargs -I% cp -f % $SAMPLE_DSET/sub1/test\n",
    "find data/ds000114/sub-02/ses-test -name '*.nii.gz' | xargs -I% cp -f % $SAMPLE_DSET/sub2/test\n",
    "find data/ds000114/sub-03/ses-test -name '*.nii.gz' | xargs -I% cp -f % $SAMPLE_DSET/sub3/test\n",
    "find data/ds000114/sub-01/ses-retest -name '*.nii.gz' | xargs -I% cp -f % $SAMPLE_DSET/sub1/retest\n",
    "find data/ds000114/sub-02/ses-retest -name '*.nii.gz' | xargs -I% cp -f % $SAMPLE_DSET/sub2/retest\n",
    "find data/ds000114/sub-03/ses-retest -name '*.nii.gz' | xargs -I% cp -f % $SAMPLE_DSET/sub3/retest\n",
    "tree $SAMPLE_DSET"
   ]
  },
  {
   "cell_type": "code",
   "execution_count": 32,
   "metadata": {},
   "outputs": [
    {
     "name": "stdout",
     "output_type": "stream",
     "text": [
      "Dataset(name='/Users/tclose/Documents/Workshops/2019-11-15-N.A.B.-workshop/nipype_arcana_workshop/notebooks/data/sample-datasets/depth2', depth=2, repository=LocalFileSystemRepo())\n",
      "subjects: ['sub1', 'sub2', 'sub3']\n",
      "visits: ['retest', 'test']\n"
     ]
    }
   ],
   "source": [
    "dset2 = Dataset('data/sample-datasets/depth2', depth=2)\n",
    "print(dset2)\n",
    "print('subjects:', list(dset2.subject_ids))\n",
    "print('visits:', list(dset2.visit_ids))"
   ]
  },
  {
   "cell_type": "markdown",
   "metadata": {},
   "source": [
    "However, just say the `retest` session of `Subject 3` was corrupted we could exclude it from the analysis by either dropping `Subject 3` or `retest` from the dataset by filtering the IDs"
   ]
  },
  {
   "cell_type": "code",
   "execution_count": 33,
   "metadata": {},
   "outputs": [
    {
     "name": "stdout",
     "output_type": "stream",
     "text": [
      "Dataset(name='/Users/tclose/Documents/Workshops/2019-11-15-N.A.B.-workshop/nipype_arcana_workshop/notebooks/data/sample-datasets/depth2', depth=2, repository=LocalFileSystemRepo())\n",
      "subjects: ['sub1', 'sub2']\n",
      "visits: ['retest', 'test']\n"
     ]
    }
   ],
   "source": [
    "dset2_filter_subs = Dataset('data/sample-datasets/depth2', depth=2, subject_ids=['sub1', 'sub2'])\n",
    "print(dset2_filter_subs)\n",
    "print('subjects:', list(dset2_filter_subs.subject_ids))\n",
    "print('visits:', list(dset2_filter_subs.visit_ids))"
   ]
  },
  {
   "cell_type": "code",
   "execution_count": 34,
   "metadata": {},
   "outputs": [
    {
     "name": "stdout",
     "output_type": "stream",
     "text": [
      "Dataset(name='/Users/tclose/Documents/Workshops/2019-11-15-N.A.B.-workshop/nipype_arcana_workshop/notebooks/data/sample-datasets/depth2', depth=2, repository=LocalFileSystemRepo())\n",
      "subjects: ['sub1', 'sub2', 'sub3']\n",
      "visits: ['test']\n"
     ]
    }
   ],
   "source": [
    "dset2_filter_vis = Dataset('data/sample-datasets/depth2', depth=2, visit_ids=['test'])\n",
    "print(dset2_filter_vis)\n",
    "print('subjects:', list(dset2_filter_vis.subject_ids))\n",
    "print('visits:', list(dset2_filter_vis.visit_ids))"
   ]
  },
  {
   "cell_type": "code",
   "execution_count": 35,
   "metadata": {},
   "outputs": [
    {
     "name": "stdout",
     "output_type": "stream",
     "text": [
      "Dataset(name='/Users/tclose/Documents/Workshops/2019-11-15-N.A.B.-workshop/nipype_arcana_workshop/notebooks/data/sample-datasets/depth2', depth=2, repository=LocalFileSystemRepo())\n",
      "subjects: ['sub1', 'sub2']\n",
      "visits: ['test']\n"
     ]
    }
   ],
   "source": [
    "dset2_filter_both = Dataset('data/sample-datasets/depth2', depth=2, subject_ids=['sub1', 'sub2'], visit_ids=['test'])\n",
    "print(dset2_filter_both)\n",
    "print('subjects:', list(dset2_filter_both.subject_ids))\n",
    "print('visits:', list(dset2_filter_both.visit_ids))"
   ]
  },
  {
   "cell_type": "code",
   "execution_count": null,
   "metadata": {},
   "outputs": [],
   "source": []
  }
 ],
 "metadata": {
  "file_extension": ".py",
  "kernelspec": {
   "display_name": "Python 3",
   "language": "python",
   "name": "python3"
  },
  "language_info": {
   "codemirror_mode": {
    "name": "ipython",
    "version": 3
   },
   "file_extension": ".py",
   "mimetype": "text/x-python",
   "name": "python",
   "nbconvert_exporter": "python",
   "pygments_lexer": "ipython3",
   "version": "3.7.5"
  },
  "mimetype": "text/x-python",
  "name": "python",
  "npconvert_exporter": "python",
  "pygments_lexer": "ipython3",
  "version": 3
 },
 "nbformat": 4,
 "nbformat_minor": 2
}
