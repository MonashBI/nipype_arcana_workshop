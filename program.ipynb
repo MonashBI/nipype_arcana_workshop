{
 "cells": [
  {
   "cell_type": "markdown",
   "metadata": {},
   "source": [
    "<div style=\"display: flex; align=center;\">\n",
    "  <div style=\"float: left; width: 48%; padding: 5px;\"><img src=\"slides/images/logo_cvl.png\"></div>\n",
    "  <div style=\"float: left; width: 24%; padding: 5px;\"><img src=\"slides/images/logo_nif_ls.jpg\"></div>\n",
    "  <div style=\"float: left; width: 24%; padding: 5px; padding-top: 20px;\"><img src=\"slides/images/logo_vbic.jpg\"></div>\n",
    "</div>\n",
    "\n",
    "# Automating Neuroimaging Analysis Workflows with Nipype, Arcana and Banana &ndash; Swinburne University, November 2019\n",
    "\n",
    "Analysis of neuroimaging-research data involves the sequential application of algorithms implemented in a number of heterogeneous toolkits (e.g. FSL, SPM, MRTrix, ANTs, AFNI, DiPy). This makes constructing complete workflows challenging as it requires not only the relevant scientific knowledge but also familiarity with the syntax and options of each of the tools involved.\n",
    "\n",
    "The workshop will show how to wrap neuroimaging tools within consistent interfaces and link them together into robust workflows using the Nipype Python package (http://nipype.readthedocs.io). Participants will then be shown how common components of these analysis workflows can be consolidated within object-oriented base classes using the Abstraction of Repository Centric ANAlysis (Arcana) (http://arcana.readthedocs.io) framework, and how this is used in the Brain imAgiNg Analysis iN Arcana (Banana) package to capture the arcana (obscure knowledge) of neuroimaging analysis workflow design.\n",
    "\n",
    "In the last part of the course, participants will learn how to extend and customise the classes in Banana to the specific needs of their own analysis, and apply these workflows to project data stored in BIDS datasets. Then finally, how workflows can be automated for data stored in XNAT repositories by encapsulating them within Docker containers and using XNAT’s “container service”.\n",
    "\n",
    "The full content of this course, all notebooks and slides can be found on the github repository [github.com/MonashBI/nipype_arcana_workshop](https://github.com/MonashBI/nipype_arcana_workshop). A lot of the materials have been taken/adpated from of a series of \"Python in neuroimaging\" workshops run by Michael Notter and Peer Herholz, and Michael Notter's excellent [Nipype tutorial](https://github.com/miykael/nipype_tutorial).\n"
   ]
  },
  {
   "cell_type": "markdown",
   "metadata": {},
   "source": [
    "## Configuring Your Workstation\n",
    "\n",
    "During the workshop you will be able (and recommended) to use the CVL to run this notebook. However, if you would like to run it from your own workstation outside of the workshop please see the [GitHub README](http://github.com/MonashBI/nipype_arcana_workshop/blob/master/README.md) for instructions on how to use either Docker, Pip or Conda to configure your workstation.\n",
    "\n",
    "For background on the technologies involved checkout\n",
    "\n",
    " - Slides: [Docker, Pip and Conda](slides/day1_01_conda_and_docker.html)"
   ]
  },
  {
   "cell_type": "markdown",
   "metadata": {},
   "source": [
    "## Background/Prerequisites\n",
    "\n",
    "### Introduction to Python and Jupyter Notebooks (essential)\n",
    "\n",
    "This section is meant as a quick introduction to Jupyter Notebooks and Python. What are they, how do they work and why are they so cool?\n",
    "\n",
    "- Slides: [Introduction to Python and Jupyter Notebook](slides/day1_02_python_and_jupyter_notebook.html)\n",
    "- Notebook 1: [Jupyter Notebook](notebooks/introduction_jupyter-notebook.ipynb)\n",
    "- Notebook 2: [All about Python](notebooks/introduction_python.ipynb)\n",
    "\n",
    "### Crash course in scientific toolboxes\n",
    "\n",
    "One advantage of Python is the vast availability of toolboxes. There's a toolbox for almost everything! In this section, we want to introduce you to the main scientific toolboxes that every researcher should know.\n",
    "\n",
    "- Slides: [Scientific Toolboxes](slides/day1_03_scientific_toolboxes.html)\n",
    "- Notebook 1: [Numpy](notebooks/python_numpy.ipynb)\n",
    "- Notebook 2: [Statistics](notebooks/python_statistics.ipynb)\n",
    "- Notebook 3: [Visualization](notebooks/python_visualization.ipynb)\n",
    "- Notebook 4: [Scipy](notebooks/python_scipy.ipynb)\n",
    "- Notebook 5: [Scikit](notebooks/python_scikit.ipynb)\n",
    "\n",
    "### How to handle your MRI data with Nibabel and Nilearn\n",
    "\n",
    "It's liberating to have direct access to your neuroimaging data. `Nibabel` and `Nilearn` allow exactly that. With those two neuroimaging packages, you can consider the brain a simple 3D/4D matrix of datapoints and do with it whatever you want.\n",
    "\n",
    "- Slides: [Data Manipulation](slides/day1_04_data_manipulation.html)\n",
    "- Notebook 1: [Nibabel](notebooks/image_manipulation_nibabel.ipynb)\n",
    "- Notebook 2: [Nilearn](notebooks/image_manipulation_nilearn.ipynb)\n"
   ]
  },
  {
   "cell_type": "markdown",
   "metadata": {},
   "source": [
    "## Workshop Program (1-day)\n",
    "\n",
    "The workshop is to be held over one day and is roughly split into two parts: an introduction to Nipype concepts and applications in the morning, and Arcana/Banana in the afternoon.\n",
    "\n",
    "<h3 style=\"background-color: #F0F0F0;\">Nipype (Morning)\n",
    "\n",
    "### `9:00-9:30` Introduction to Nipype, Arcana and Banana\n",
    "\n",
    "In this short introduction, we will show you what Nipype is and why you should use it. It contains a powerful short example that shows the strength behind Nipype.\n",
    "\n",
    " - Slides: [Short introduction to Nipype, Arcana and Banana](../nipype_tutorial/notebooks/introduction_nipype.html)\n",
    " - Notebook: [Nipype Showcase](../nipype_tutorial/notebooks/introduction_showcase.ipynb)\n",
    "\n",
    "### `9:30-10:30` Building blocks of Nipype: Interfaces & Workflows\n",
    "\n",
    "Nipype can be learned very quickly, but it's nonetheless important that you know about some of the main building blocks.\n",
    "\n",
    " - Slides: [Interfaces & Workflows](slides/day2_01_nipype_basics.html)\n",
    " - Notebook: [Basic Concepts](../nipype_tutorial/index.ipynb)\n",
    "\n",
    "### `10:30-10:45` Coffee & Tea Break\n",
    "\n",
    "<img style=\"float: left; width: 4%; padding: 5px;\" src=\"slides/images/under-construction.png\">\n",
    "\n",
    "### `10:45-12:00` Pre-processing Hands-on\n",
    "\n",
    "\n",
    "**Important:** Don't forget to use the `-v` flag to run the docker container. Like this, you will have access to changes in the notebook and possible output that you want to keep.\n",
    "\n",
    "\n",
    "* Notebook under: [nipype_tutorial/notebooks/handson_preprocessing.ipynb](../nipype_tutorial/notebooks/handson_preprocessing.ipynb)\n",
    "\n",
    "### `12:00-13:00` Lunch"
   ]
  },
  {
   "cell_type": "markdown",
   "metadata": {},
   "source": [
    "<h3 style=\"background-color: #F0F0F0;\">Arcana and Banana (Afternoon)\n",
    "\n",
    "<img style=\"float: left; width: 4%; padding: 5px;\" src=\"slides/images/under-construction.png\">\n",
    "\n",
    "### `13:00-14:00` Arcana \n",
    "\n",
    "<img style=\"float: left; width: 4%; padding: 5px;\" src=\"slides/images/under-construction.png\">\n",
    "\n",
    "### `14:00-15:00` Banana\n",
    "\n",
    "### `15:00-15:30` Coffee & Tea Break\n",
    "\n",
    "<img style=\"float: left; width: 4%; padding: 5px;\" src=\"slides/images/under-construction.png\">\n",
    "\n",
    "### `15:30-17:00` Track 1: Customising Banana to your analysis\n",
    "\n",
    "<img style=\"float: left; width: 4%; padding: 5px;\" src=\"slides/images/under-construction.png\">\n",
    "\n",
    "### `15:30-17:00` Track 2: Running dockerised workflows on XNAT and BIDS datasets\n",
    "\n"
   ]
  },
  {
   "cell_type": "code",
   "execution_count": null,
   "metadata": {},
   "outputs": [],
   "source": []
  }
 ],
 "metadata": {
  "file_extension": ".py",
  "kernelspec": {
   "display_name": "Python 3",
   "language": "python",
   "name": "python3"
  },
  "language_info": {
   "codemirror_mode": {
    "name": "ipython",
    "version": 3
   },
   "file_extension": ".py",
   "mimetype": "text/x-python",
   "name": "python",
   "nbconvert_exporter": "python",
   "pygments_lexer": "ipython3",
   "version": "3.7.4"
  },
  "mimetype": "text/x-python",
  "name": "python",
  "npconvert_exporter": "python",
  "pygments_lexer": "ipython3",
  "version": 3
 },
 "nbformat": 4,
 "nbformat_minor": 2
}
